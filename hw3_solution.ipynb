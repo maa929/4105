{
  "nbformat": 4,
  "nbformat_minor": 0,
  "metadata": {
    "colab": {
      "provenance": []
    },
    "kernelspec": {
      "name": "python3",
      "display_name": "Python 3"
    },
    "language_info": {
      "name": "python"
    }
  },
  "cells": [
    {
      "cell_type": "code",
      "execution_count": 1,
      "metadata": {
        "colab": {
          "base_uri": "https://localhost:8080/"
        },
        "id": "Kz63yhtQzp9j",
        "outputId": "e50192f4-d3a5-47b7-fa02-5396d80bb4bc"
      },
      "outputs": [
        {
          "output_type": "stream",
          "name": "stdout",
          "text": [
            "Mounted at /content/gdrive\n"
          ]
        }
      ],
      "source": [
        "from google.colab import drive\n",
        "drive.mount('/content/gdrive')"
      ]
    },
    {
      "cell_type": "code",
      "source": [
        "cd gdrive/MyDrive/UNCC/Fall23/TA:\\ ML/Hws/HW3"
      ],
      "metadata": {
        "colab": {
          "base_uri": "https://localhost:8080/"
        },
        "id": "qnzBGczb0HXI",
        "outputId": "d9927856-83ee-4365-8527-01fe2bb1ffb4"
      },
      "execution_count": 2,
      "outputs": [
        {
          "output_type": "stream",
          "name": "stdout",
          "text": [
            "/content/gdrive/MyDrive/UNCC/Fall23/TA: ML/Hws/HW3\n"
          ]
        }
      ]
    },
    {
      "cell_type": "code",
      "source": [
        "import warnings\n",
        "warnings.filterwarnings('ignore')\n",
        "\n",
        "import numpy as np\n",
        "import pandas as pd\n",
        "import matplotlib.pyplot as plt\n",
        "from sklearn.model_selection import KFold\n",
        "from sklearn.model_selection import cross_val_score\n",
        "from sklearn.linear_model import LogisticRegression\n",
        "from sklearn.metrics import confusion_matrix\n",
        "from sklearn.metrics import classification_report\n",
        "from sklearn.model_selection import train_test_split\n",
        "from sklearn.preprocessing import StandardScaler\n",
        "import seaborn as sns\n",
        "from sklearn import metrics\n",
        "from sklearn.linear_model import LogisticRegressionCV"
      ],
      "metadata": {
        "id": "vcj73nJQ0Hao"
      },
      "execution_count": 3,
      "outputs": []
    },
    {
      "cell_type": "code",
      "source": [
        "def model_training(X_train, y_train, X_test, y_test, cv=None, penalty='none', c=0.1, solver='lbfgs'):\n",
        "    classifier = LogisticRegression(penalty=penalty, C=c, solver=solver, random_state=0)\n",
        "    classifier.fit(X_train, y_train)\n",
        "    Y_pred = classifier.predict(X_test)\n",
        "    cnf_matrix = confusion_matrix(y_test, Y_pred)\n",
        "    return cnf_matrix, Y_pred\n",
        "\n",
        "def get_confusion_matrix(cnf_matrix):\n",
        "    class_names=[0,1] # name  of classes\n",
        "    fig, ax = plt.subplots()\n",
        "    tick_marks = np.arange(len(class_names))\n",
        "    plt.xticks(tick_marks, class_names)\n",
        "    plt.yticks(tick_marks, class_names)\n",
        "    # create heatmap\n",
        "    sns.heatmap(pd.DataFrame(cnf_matrix), annot=True, cmap=\"YlGnBu\" ,fmt='g')\n",
        "    ax.xaxis.set_label_position(\"top\")\n",
        "    plt.tight_layout()\n",
        "    plt.title('Confusion matrix', y=1.1)\n",
        "    plt.ylabel('Actual label')\n",
        "    plt.xlabel('Predicted label')\n",
        "\n",
        "def get_results(y_test, Y_pred):\n",
        "    acc = metrics.accuracy_score(y_test, Y_pred)\n",
        "    print(\"Accuracy:\",metrics.accuracy_score(y_test, Y_pred))\n",
        "    print(\"Precision:\",metrics.precision_score(y_test, Y_pred))\n",
        "    print(\"Recall:\",metrics.recall_score(y_test, Y_pred))\n",
        "    print(\"F1-Score:\",metrics.f1_score(y_test, Y_pred))\n",
        "    return acc*100.0"
      ],
      "metadata": {
        "id": "8TcHEN-ZFapX"
      },
      "execution_count": 60,
      "outputs": []
    },
    {
      "cell_type": "markdown",
      "source": [
        "# Diabetes dataset read"
      ],
      "metadata": {
        "id": "prZ1b5Nk03Am"
      }
    },
    {
      "cell_type": "code",
      "source": [
        "df = pd.read_csv(\"diabetes.csv\")\n",
        "print(\"CSV File Shape\")\n",
        "print(df.shape)\n",
        "df.head()"
      ],
      "metadata": {
        "colab": {
          "base_uri": "https://localhost:8080/",
          "height": 242
        },
        "id": "SUQrK5yT0Hgz",
        "outputId": "792a9f2e-5a7b-40f2-af60-845d1f261908"
      },
      "execution_count": 61,
      "outputs": [
        {
          "output_type": "stream",
          "name": "stdout",
          "text": [
            "CSV File Shape\n",
            "(768, 9)\n"
          ]
        },
        {
          "output_type": "execute_result",
          "data": {
            "text/plain": [
              "   Pregnancies  Glucose  BloodPressure  SkinThickness  Insulin   BMI  \\\n",
              "0            6      148             72             35        0  33.6   \n",
              "1            1       85             66             29        0  26.6   \n",
              "2            8      183             64              0        0  23.3   \n",
              "3            1       89             66             23       94  28.1   \n",
              "4            0      137             40             35      168  43.1   \n",
              "\n",
              "   DiabetesPedigreeFunction  Age  Outcome  \n",
              "0                     0.627   50        1  \n",
              "1                     0.351   31        0  \n",
              "2                     0.672   32        1  \n",
              "3                     0.167   21        0  \n",
              "4                     2.288   33        1  "
            ],
            "text/html": [
              "\n",
              "  <div id=\"df-905859e1-bb3f-45ca-8458-bd0f3e135459\" class=\"colab-df-container\">\n",
              "    <div>\n",
              "<style scoped>\n",
              "    .dataframe tbody tr th:only-of-type {\n",
              "        vertical-align: middle;\n",
              "    }\n",
              "\n",
              "    .dataframe tbody tr th {\n",
              "        vertical-align: top;\n",
              "    }\n",
              "\n",
              "    .dataframe thead th {\n",
              "        text-align: right;\n",
              "    }\n",
              "</style>\n",
              "<table border=\"1\" class=\"dataframe\">\n",
              "  <thead>\n",
              "    <tr style=\"text-align: right;\">\n",
              "      <th></th>\n",
              "      <th>Pregnancies</th>\n",
              "      <th>Glucose</th>\n",
              "      <th>BloodPressure</th>\n",
              "      <th>SkinThickness</th>\n",
              "      <th>Insulin</th>\n",
              "      <th>BMI</th>\n",
              "      <th>DiabetesPedigreeFunction</th>\n",
              "      <th>Age</th>\n",
              "      <th>Outcome</th>\n",
              "    </tr>\n",
              "  </thead>\n",
              "  <tbody>\n",
              "    <tr>\n",
              "      <th>0</th>\n",
              "      <td>6</td>\n",
              "      <td>148</td>\n",
              "      <td>72</td>\n",
              "      <td>35</td>\n",
              "      <td>0</td>\n",
              "      <td>33.6</td>\n",
              "      <td>0.627</td>\n",
              "      <td>50</td>\n",
              "      <td>1</td>\n",
              "    </tr>\n",
              "    <tr>\n",
              "      <th>1</th>\n",
              "      <td>1</td>\n",
              "      <td>85</td>\n",
              "      <td>66</td>\n",
              "      <td>29</td>\n",
              "      <td>0</td>\n",
              "      <td>26.6</td>\n",
              "      <td>0.351</td>\n",
              "      <td>31</td>\n",
              "      <td>0</td>\n",
              "    </tr>\n",
              "    <tr>\n",
              "      <th>2</th>\n",
              "      <td>8</td>\n",
              "      <td>183</td>\n",
              "      <td>64</td>\n",
              "      <td>0</td>\n",
              "      <td>0</td>\n",
              "      <td>23.3</td>\n",
              "      <td>0.672</td>\n",
              "      <td>32</td>\n",
              "      <td>1</td>\n",
              "    </tr>\n",
              "    <tr>\n",
              "      <th>3</th>\n",
              "      <td>1</td>\n",
              "      <td>89</td>\n",
              "      <td>66</td>\n",
              "      <td>23</td>\n",
              "      <td>94</td>\n",
              "      <td>28.1</td>\n",
              "      <td>0.167</td>\n",
              "      <td>21</td>\n",
              "      <td>0</td>\n",
              "    </tr>\n",
              "    <tr>\n",
              "      <th>4</th>\n",
              "      <td>0</td>\n",
              "      <td>137</td>\n",
              "      <td>40</td>\n",
              "      <td>35</td>\n",
              "      <td>168</td>\n",
              "      <td>43.1</td>\n",
              "      <td>2.288</td>\n",
              "      <td>33</td>\n",
              "      <td>1</td>\n",
              "    </tr>\n",
              "  </tbody>\n",
              "</table>\n",
              "</div>\n",
              "    <div class=\"colab-df-buttons\">\n",
              "\n",
              "  <div class=\"colab-df-container\">\n",
              "    <button class=\"colab-df-convert\" onclick=\"convertToInteractive('df-905859e1-bb3f-45ca-8458-bd0f3e135459')\"\n",
              "            title=\"Convert this dataframe to an interactive table.\"\n",
              "            style=\"display:none;\">\n",
              "\n",
              "  <svg xmlns=\"http://www.w3.org/2000/svg\" height=\"24px\" viewBox=\"0 -960 960 960\">\n",
              "    <path d=\"M120-120v-720h720v720H120Zm60-500h600v-160H180v160Zm220 220h160v-160H400v160Zm0 220h160v-160H400v160ZM180-400h160v-160H180v160Zm440 0h160v-160H620v160ZM180-180h160v-160H180v160Zm440 0h160v-160H620v160Z\"/>\n",
              "  </svg>\n",
              "    </button>\n",
              "\n",
              "  <style>\n",
              "    .colab-df-container {\n",
              "      display:flex;\n",
              "      gap: 12px;\n",
              "    }\n",
              "\n",
              "    .colab-df-convert {\n",
              "      background-color: #E8F0FE;\n",
              "      border: none;\n",
              "      border-radius: 50%;\n",
              "      cursor: pointer;\n",
              "      display: none;\n",
              "      fill: #1967D2;\n",
              "      height: 32px;\n",
              "      padding: 0 0 0 0;\n",
              "      width: 32px;\n",
              "    }\n",
              "\n",
              "    .colab-df-convert:hover {\n",
              "      background-color: #E2EBFA;\n",
              "      box-shadow: 0px 1px 2px rgba(60, 64, 67, 0.3), 0px 1px 3px 1px rgba(60, 64, 67, 0.15);\n",
              "      fill: #174EA6;\n",
              "    }\n",
              "\n",
              "    .colab-df-buttons div {\n",
              "      margin-bottom: 4px;\n",
              "    }\n",
              "\n",
              "    [theme=dark] .colab-df-convert {\n",
              "      background-color: #3B4455;\n",
              "      fill: #D2E3FC;\n",
              "    }\n",
              "\n",
              "    [theme=dark] .colab-df-convert:hover {\n",
              "      background-color: #434B5C;\n",
              "      box-shadow: 0px 1px 3px 1px rgba(0, 0, 0, 0.15);\n",
              "      filter: drop-shadow(0px 1px 2px rgba(0, 0, 0, 0.3));\n",
              "      fill: #FFFFFF;\n",
              "    }\n",
              "  </style>\n",
              "\n",
              "    <script>\n",
              "      const buttonEl =\n",
              "        document.querySelector('#df-905859e1-bb3f-45ca-8458-bd0f3e135459 button.colab-df-convert');\n",
              "      buttonEl.style.display =\n",
              "        google.colab.kernel.accessAllowed ? 'block' : 'none';\n",
              "\n",
              "      async function convertToInteractive(key) {\n",
              "        const element = document.querySelector('#df-905859e1-bb3f-45ca-8458-bd0f3e135459');\n",
              "        const dataTable =\n",
              "          await google.colab.kernel.invokeFunction('convertToInteractive',\n",
              "                                                    [key], {});\n",
              "        if (!dataTable) return;\n",
              "\n",
              "        const docLinkHtml = 'Like what you see? Visit the ' +\n",
              "          '<a target=\"_blank\" href=https://colab.research.google.com/notebooks/data_table.ipynb>data table notebook</a>'\n",
              "          + ' to learn more about interactive tables.';\n",
              "        element.innerHTML = '';\n",
              "        dataTable['output_type'] = 'display_data';\n",
              "        await google.colab.output.renderOutput(dataTable, element);\n",
              "        const docLink = document.createElement('div');\n",
              "        docLink.innerHTML = docLinkHtml;\n",
              "        element.appendChild(docLink);\n",
              "      }\n",
              "    </script>\n",
              "  </div>\n",
              "\n",
              "\n",
              "<div id=\"df-af708a98-f3a2-4bdc-98bf-1eaa6266d462\">\n",
              "  <button class=\"colab-df-quickchart\" onclick=\"quickchart('df-af708a98-f3a2-4bdc-98bf-1eaa6266d462')\"\n",
              "            title=\"Suggest charts.\"\n",
              "            style=\"display:none;\">\n",
              "\n",
              "<svg xmlns=\"http://www.w3.org/2000/svg\" height=\"24px\"viewBox=\"0 0 24 24\"\n",
              "     width=\"24px\">\n",
              "    <g>\n",
              "        <path d=\"M19 3H5c-1.1 0-2 .9-2 2v14c0 1.1.9 2 2 2h14c1.1 0 2-.9 2-2V5c0-1.1-.9-2-2-2zM9 17H7v-7h2v7zm4 0h-2V7h2v10zm4 0h-2v-4h2v4z\"/>\n",
              "    </g>\n",
              "</svg>\n",
              "  </button>\n",
              "\n",
              "<style>\n",
              "  .colab-df-quickchart {\n",
              "      --bg-color: #E8F0FE;\n",
              "      --fill-color: #1967D2;\n",
              "      --hover-bg-color: #E2EBFA;\n",
              "      --hover-fill-color: #174EA6;\n",
              "      --disabled-fill-color: #AAA;\n",
              "      --disabled-bg-color: #DDD;\n",
              "  }\n",
              "\n",
              "  [theme=dark] .colab-df-quickchart {\n",
              "      --bg-color: #3B4455;\n",
              "      --fill-color: #D2E3FC;\n",
              "      --hover-bg-color: #434B5C;\n",
              "      --hover-fill-color: #FFFFFF;\n",
              "      --disabled-bg-color: #3B4455;\n",
              "      --disabled-fill-color: #666;\n",
              "  }\n",
              "\n",
              "  .colab-df-quickchart {\n",
              "    background-color: var(--bg-color);\n",
              "    border: none;\n",
              "    border-radius: 50%;\n",
              "    cursor: pointer;\n",
              "    display: none;\n",
              "    fill: var(--fill-color);\n",
              "    height: 32px;\n",
              "    padding: 0;\n",
              "    width: 32px;\n",
              "  }\n",
              "\n",
              "  .colab-df-quickchart:hover {\n",
              "    background-color: var(--hover-bg-color);\n",
              "    box-shadow: 0 1px 2px rgba(60, 64, 67, 0.3), 0 1px 3px 1px rgba(60, 64, 67, 0.15);\n",
              "    fill: var(--button-hover-fill-color);\n",
              "  }\n",
              "\n",
              "  .colab-df-quickchart-complete:disabled,\n",
              "  .colab-df-quickchart-complete:disabled:hover {\n",
              "    background-color: var(--disabled-bg-color);\n",
              "    fill: var(--disabled-fill-color);\n",
              "    box-shadow: none;\n",
              "  }\n",
              "\n",
              "  .colab-df-spinner {\n",
              "    border: 2px solid var(--fill-color);\n",
              "    border-color: transparent;\n",
              "    border-bottom-color: var(--fill-color);\n",
              "    animation:\n",
              "      spin 1s steps(1) infinite;\n",
              "  }\n",
              "\n",
              "  @keyframes spin {\n",
              "    0% {\n",
              "      border-color: transparent;\n",
              "      border-bottom-color: var(--fill-color);\n",
              "      border-left-color: var(--fill-color);\n",
              "    }\n",
              "    20% {\n",
              "      border-color: transparent;\n",
              "      border-left-color: var(--fill-color);\n",
              "      border-top-color: var(--fill-color);\n",
              "    }\n",
              "    30% {\n",
              "      border-color: transparent;\n",
              "      border-left-color: var(--fill-color);\n",
              "      border-top-color: var(--fill-color);\n",
              "      border-right-color: var(--fill-color);\n",
              "    }\n",
              "    40% {\n",
              "      border-color: transparent;\n",
              "      border-right-color: var(--fill-color);\n",
              "      border-top-color: var(--fill-color);\n",
              "    }\n",
              "    60% {\n",
              "      border-color: transparent;\n",
              "      border-right-color: var(--fill-color);\n",
              "    }\n",
              "    80% {\n",
              "      border-color: transparent;\n",
              "      border-right-color: var(--fill-color);\n",
              "      border-bottom-color: var(--fill-color);\n",
              "    }\n",
              "    90% {\n",
              "      border-color: transparent;\n",
              "      border-bottom-color: var(--fill-color);\n",
              "    }\n",
              "  }\n",
              "</style>\n",
              "\n",
              "  <script>\n",
              "    async function quickchart(key) {\n",
              "      const quickchartButtonEl =\n",
              "        document.querySelector('#' + key + ' button');\n",
              "      quickchartButtonEl.disabled = true;  // To prevent multiple clicks.\n",
              "      quickchartButtonEl.classList.add('colab-df-spinner');\n",
              "      try {\n",
              "        const charts = await google.colab.kernel.invokeFunction(\n",
              "            'suggestCharts', [key], {});\n",
              "      } catch (error) {\n",
              "        console.error('Error during call to suggestCharts:', error);\n",
              "      }\n",
              "      quickchartButtonEl.classList.remove('colab-df-spinner');\n",
              "      quickchartButtonEl.classList.add('colab-df-quickchart-complete');\n",
              "    }\n",
              "    (() => {\n",
              "      let quickchartButtonEl =\n",
              "        document.querySelector('#df-af708a98-f3a2-4bdc-98bf-1eaa6266d462 button');\n",
              "      quickchartButtonEl.style.display =\n",
              "        google.colab.kernel.accessAllowed ? 'block' : 'none';\n",
              "    })();\n",
              "  </script>\n",
              "</div>\n",
              "    </div>\n",
              "  </div>\n"
            ]
          },
          "metadata": {},
          "execution_count": 61
        }
      ]
    },
    {
      "cell_type": "code",
      "source": [
        "X = df.iloc[:, :8].values\n",
        "Y = df.iloc[:, 8].values\n",
        "\n",
        "sc_X = StandardScaler()\n",
        "X_scaled = sc_X.fit_transform(X)\n",
        "\n",
        "X_train, X_test, y_train, y_test = train_test_split(X, Y, test_size=0.20, random_state=42)\n",
        "# sc_X = StandardScaler()\n",
        "# X_train = sc_X.fit_transform(X_train)\n",
        "# X_test = sc_X.transform(X_test)"
      ],
      "metadata": {
        "id": "a_l9bMd80Hjr"
      },
      "execution_count": 62,
      "outputs": []
    },
    {
      "cell_type": "markdown",
      "source": [
        "# Problem-1"
      ],
      "metadata": {
        "id": "bz8-g9p11cUV"
      }
    },
    {
      "cell_type": "code",
      "source": [
        "cnf_matrix, Y_pred = model_training(X_train, y_train, X_test, y_test)"
      ],
      "metadata": {
        "id": "pwmpc1KG0HnJ"
      },
      "execution_count": 63,
      "outputs": []
    },
    {
      "cell_type": "code",
      "source": [
        "acc_1 = get_results(y_test, Y_pred)"
      ],
      "metadata": {
        "colab": {
          "base_uri": "https://localhost:8080/"
        },
        "id": "XFvOW_BM0HqM",
        "outputId": "7e8ad7b6-c178-49a1-ca90-60da52781560"
      },
      "execution_count": 64,
      "outputs": [
        {
          "output_type": "stream",
          "name": "stdout",
          "text": [
            "Accuracy: 0.7727272727272727\n",
            "Precision: 0.6851851851851852\n",
            "Recall: 0.6727272727272727\n",
            "F1-Score: 0.6788990825688074\n"
          ]
        }
      ]
    },
    {
      "cell_type": "code",
      "source": [
        "get_confusion_matrix(cnf_matrix)"
      ],
      "metadata": {
        "colab": {
          "base_uri": "https://localhost:8080/",
          "height": 551
        },
        "id": "6ZNYQuEo0HtD",
        "outputId": "79bbb03b-acac-4966-a05f-c2719ffbe92b"
      },
      "execution_count": 65,
      "outputs": [
        {
          "output_type": "display_data",
          "data": {
            "text/plain": [
              "<Figure size 640x480 with 2 Axes>"
            ],
            "image/png": "[encoded data removed]"
          },
          "metadata": {}
        }
      ]
    },
    {
      "cell_type": "markdown",
      "source": [
        "# Breast Cancer dataset read"
      ],
      "metadata": {
        "id": "eodT8PM22Gpb"
      }
    },
    {
      "cell_type": "code",
      "source": [
        "from sklearn.datasets import load_breast_cancer\n",
        "breast = load_breast_cancer()\n",
        "X = breast.data\n",
        "print(X.shape)\n",
        "Y = breast.target\n",
        "\n",
        "breast_input = pd.DataFrame(X)\n",
        "breast_input.head()"
      ],
      "metadata": {
        "colab": {
          "base_uri": "https://localhost:8080/",
          "height": 273
        },
        "id": "_hOzcU462Hph",
        "outputId": "5ee470ae-b631-4d03-be12-4faf3ece046c"
      },
      "execution_count": 66,
      "outputs": [
        {
          "output_type": "stream",
          "name": "stdout",
          "text": [
            "(569, 30)\n"
          ]
        },
        {
          "output_type": "execute_result",
          "data": {
            "text/plain": [
              "      0      1       2       3        4        5       6        7       8   \\\n",
              "0  17.99  10.38  122.80  1001.0  0.11840  0.27760  0.3001  0.14710  0.2419   \n",
              "1  20.57  17.77  132.90  1326.0  0.08474  0.07864  0.0869  0.07017  0.1812   \n",
              "2  19.69  21.25  130.00  1203.0  0.10960  0.15990  0.1974  0.12790  0.2069   \n",
              "3  11.42  20.38   77.58   386.1  0.14250  0.28390  0.2414  0.10520  0.2597   \n",
              "4  20.29  14.34  135.10  1297.0  0.10030  0.13280  0.1980  0.10430  0.1809   \n",
              "\n",
              "        9   ...     20     21      22      23      24      25      26      27  \\\n",
              "0  0.07871  ...  25.38  17.33  184.60  2019.0  0.1622  0.6656  0.7119  0.2654   \n",
              "1  0.05667  ...  24.99  23.41  158.80  1956.0  0.1238  0.1866  0.2416  0.1860   \n",
              "2  0.05999  ...  23.57  25.53  152.50  1709.0  0.1444  0.4245  0.4504  0.2430   \n",
              "3  0.09744  ...  14.91  26.50   98.87   567.7  0.2098  0.8663  0.6869  0.2575   \n",
              "4  0.05883  ...  22.54  16.67  152.20  1575.0  0.1374  0.2050  0.4000  0.1625   \n",
              "\n",
              "       28       29  \n",
              "0  0.4601  0.11890  \n",
              "1  0.2750  0.08902  \n",
              "2  0.3613  0.08758  \n",
              "3  0.6638  0.17300  \n",
              "4  0.2364  0.07678  \n",
              "\n",
              "[5 rows x 30 columns]"
            ],
            "text/html": [
              "\n",
              "  <div id=\"df-53a74491-a1a4-42e2-84ca-bd2e2797bf19\" class=\"colab-df-container\">\n",
              "    <div>\n",
              "<style scoped>\n",
              "    .dataframe tbody tr th:only-of-type {\n",
              "        vertical-align: middle;\n",
              "    }\n",
              "\n",
              "    .dataframe tbody tr th {\n",
              "        vertical-align: top;\n",
              "    }\n",
              "\n",
              "    .dataframe thead th {\n",
              "        text-align: right;\n",
              "    }\n",
              "</style>\n",
              "<table border=\"1\" class=\"dataframe\">\n",
              "  <thead>\n",
              "    <tr style=\"text-align: right;\">\n",
              "      <th></th>\n",
              "      <th>0</th>\n",
              "      <th>1</th>\n",
              "      <th>2</th>\n",
              "      <th>3</th>\n",
              "      <th>4</th>\n",
              "      <th>5</th>\n",
              "      <th>6</th>\n",
              "      <th>7</th>\n",
              "      <th>8</th>\n",
              "      <th>9</th>\n",
              "      <th>...</th>\n",
              "      <th>20</th>\n",
              "      <th>21</th>\n",
              "      <th>22</th>\n",
              "      <th>23</th>\n",
              "      <th>24</th>\n",
              "      <th>25</th>\n",
              "      <th>26</th>\n",
              "      <th>27</th>\n",
              "      <th>28</th>\n",
              "      <th>29</th>\n",
              "    </tr>\n",
              "  </thead>\n",
              "  <tbody>\n",
              "    <tr>\n",
              "      <th>0</th>\n",
              "      <td>17.99</td>\n",
              "      <td>10.38</td>\n",
              "      <td>122.80</td>\n",
              "      <td>1001.0</td>\n",
              "      <td>0.11840</td>\n",
              "      <td>0.27760</td>\n",
              "      <td>0.3001</td>\n",
              "      <td>0.14710</td>\n",
              "      <td>0.2419</td>\n",
              "      <td>0.07871</td>\n",
              "      <td>...</td>\n",
              "      <td>25.38</td>\n",
              "      <td>17.33</td>\n",
              "      <td>184.60</td>\n",
              "      <td>2019.0</td>\n",
              "      <td>0.1622</td>\n",
              "      <td>0.6656</td>\n",
              "      <td>0.7119</td>\n",
              "      <td>0.2654</td>\n",
              "      <td>0.4601</td>\n",
              "      <td>0.11890</td>\n",
              "    </tr>\n",
              "    <tr>\n",
              "      <th>1</th>\n",
              "      <td>20.57</td>\n",
              "      <td>17.77</td>\n",
              "      <td>132.90</td>\n",
              "      <td>1326.0</td>\n",
              "      <td>0.08474</td>\n",
              "      <td>0.07864</td>\n",
              "      <td>0.0869</td>\n",
              "      <td>0.07017</td>\n",
              "      <td>0.1812</td>\n",
              "      <td>0.05667</td>\n",
              "      <td>...</td>\n",
              "      <td>24.99</td>\n",
              "      <td>23.41</td>\n",
              "      <td>158.80</td>\n",
              "      <td>1956.0</td>\n",
              "      <td>0.1238</td>\n",
              "      <td>0.1866</td>\n",
              "      <td>0.2416</td>\n",
              "      <td>0.1860</td>\n",
              "      <td>0.2750</td>\n",
              "      <td>0.08902</td>\n",
              "    </tr>\n",
              "    <tr>\n",
              "      <th>2</th>\n",
              "      <td>19.69</td>\n",
              "      <td>21.25</td>\n",
              "      <td>130.00</td>\n",
              "      <td>1203.0</td>\n",
              "      <td>0.10960</td>\n",
              "      <td>0.15990</td>\n",
              "      <td>0.1974</td>\n",
              "      <td>0.12790</td>\n",
              "      <td>0.2069</td>\n",
              "      <td>0.05999</td>\n",
              "      <td>...</td>\n",
              "      <td>23.57</td>\n",
              "      <td>25.53</td>\n",
              "      <td>152.50</td>\n",
              "      <td>1709.0</td>\n",
              "      <td>0.1444</td>\n",
              "      <td>0.4245</td>\n",
              "      <td>0.4504</td>\n",
              "      <td>0.2430</td>\n",
              "      <td>0.3613</td>\n",
              "      <td>0.08758</td>\n",
              "    </tr>\n",
              "    <tr>\n",
              "      <th>3</th>\n",
              "      <td>11.42</td>\n",
              "      <td>20.38</td>\n",
              "      <td>77.58</td>\n",
              "      <td>386.1</td>\n",
              "      <td>0.14250</td>\n",
              "      <td>0.28390</td>\n",
              "      <td>0.2414</td>\n",
              "      <td>0.10520</td>\n",
              "      <td>0.2597</td>\n",
              "      <td>0.09744</td>\n",
              "      <td>...</td>\n",
              "      <td>14.91</td>\n",
              "      <td>26.50</td>\n",
              "      <td>98.87</td>\n",
              "      <td>567.7</td>\n",
              "      <td>0.2098</td>\n",
              "      <td>0.8663</td>\n",
              "      <td>0.6869</td>\n",
              "      <td>0.2575</td>\n",
              "      <td>0.6638</td>\n",
              "      <td>0.17300</td>\n",
              "    </tr>\n",
              "    <tr>\n",
              "      <th>4</th>\n",
              "      <td>20.29</td>\n",
              "      <td>14.34</td>\n",
              "      <td>135.10</td>\n",
              "      <td>1297.0</td>\n",
              "      <td>0.10030</td>\n",
              "      <td>0.13280</td>\n",
              "      <td>0.1980</td>\n",
              "      <td>0.10430</td>\n",
              "      <td>0.1809</td>\n",
              "      <td>0.05883</td>\n",
              "      <td>...</td>\n",
              "      <td>22.54</td>\n",
              "      <td>16.67</td>\n",
              "      <td>152.20</td>\n",
              "      <td>1575.0</td>\n",
              "      <td>0.1374</td>\n",
              "      <td>0.2050</td>\n",
              "      <td>0.4000</td>\n",
              "      <td>0.1625</td>\n",
              "      <td>0.2364</td>\n",
              "      <td>0.07678</td>\n",
              "    </tr>\n",
              "  </tbody>\n",
              "</table>\n",
              "<p>5 rows × 30 columns</p>\n",
              "</div>\n",
              "    <div class=\"colab-df-buttons\">\n",
              "\n",
              "  <div class=\"colab-df-container\">\n",
              "    <button class=\"colab-df-convert\" onclick=\"convertToInteractive('df-53a74491-a1a4-42e2-84ca-bd2e2797bf19')\"\n",
              "            title=\"Convert this dataframe to an interactive table.\"\n",
              "            style=\"display:none;\">\n",
              "\n",
              "  <svg xmlns=\"http://www.w3.org/2000/svg\" height=\"24px\" viewBox=\"0 -960 960 960\">\n",
              "    <path d=\"M120-120v-720h720v720H120Zm60-500h600v-160H180v160Zm220 220h160v-160H400v160Zm0 220h160v-160H400v160ZM180-400h160v-160H180v160Zm440 0h160v-160H620v160ZM180-180h160v-160H180v160Zm440 0h160v-160H620v160Z\"/>\n",
              "  </svg>\n",
              "    </button>\n",
              "\n",
              "  <style>\n",
              "    .colab-df-container {\n",
              "      display:flex;\n",
              "      gap: 12px;\n",
              "    }\n",
              "\n",
              "    .colab-df-convert {\n",
              "      background-color: #E8F0FE;\n",
              "      border: none;\n",
              "      border-radius: 50%;\n",
              "      cursor: pointer;\n",
              "      display: none;\n",
              "      fill: #1967D2;\n",
              "      height: 32px;\n",
              "      padding: 0 0 0 0;\n",
              "      width: 32px;\n",
              "    }\n",
              "\n",
              "    .colab-df-convert:hover {\n",
              "      background-color: #E2EBFA;\n",
              "      box-shadow: 0px 1px 2px rgba(60, 64, 67, 0.3), 0px 1px 3px 1px rgba(60, 64, 67, 0.15);\n",
              "      fill: #174EA6;\n",
              "    }\n",
              "\n",
              "    .colab-df-buttons div {\n",
              "      margin-bottom: 4px;\n",
              "    }\n",
              "\n",
              "    [theme=dark] .colab-df-convert {\n",
              "      background-color: #3B4455;\n",
              "      fill: #D2E3FC;\n",
              "    }\n",
              "\n",
              "    [theme=dark] .colab-df-convert:hover {\n",
              "      background-color: #434B5C;\n",
              "      box-shadow: 0px 1px 3px 1px rgba(0, 0, 0, 0.15);\n",
              "      filter: drop-shadow(0px 1px 2px rgba(0, 0, 0, 0.3));\n",
              "      fill: #FFFFFF;\n",
              "    }\n",
              "  </style>\n",
              "\n",
              "    <script>\n",
              "      const buttonEl =\n",
              "        document.querySelector('#df-53a74491-a1a4-42e2-84ca-bd2e2797bf19 button.colab-df-convert');\n",
              "      buttonEl.style.display =\n",
              "        google.colab.kernel.accessAllowed ? 'block' : 'none';\n",
              "\n",
              "      async function convertToInteractive(key) {\n",
              "        const element = document.querySelector('#df-53a74491-a1a4-42e2-84ca-bd2e2797bf19');\n",
              "        const dataTable =\n",
              "          await google.colab.kernel.invokeFunction('convertToInteractive',\n",
              "                                                    [key], {});\n",
              "        if (!dataTable) return;\n",
              "\n",
              "        const docLinkHtml = 'Like what you see? Visit the ' +\n",
              "          '<a target=\"_blank\" href=https://colab.research.google.com/notebooks/data_table.ipynb>data table notebook</a>'\n",
              "          + ' to learn more about interactive tables.';\n",
              "        element.innerHTML = '';\n",
              "        dataTable['output_type'] = 'display_data';\n",
              "        await google.colab.output.renderOutput(dataTable, element);\n",
              "        const docLink = document.createElement('div');\n",
              "        docLink.innerHTML = docLinkHtml;\n",
              "        element.appendChild(docLink);\n",
              "      }\n",
              "    </script>\n",
              "  </div>\n",
              "\n",
              "\n",
              "<div id=\"df-168c49f5-3e32-41f9-a402-339babd4065e\">\n",
              "  <button class=\"colab-df-quickchart\" onclick=\"quickchart('df-168c49f5-3e32-41f9-a402-339babd4065e')\"\n",
              "            title=\"Suggest charts.\"\n",
              "            style=\"display:none;\">\n",
              "\n",
              "<svg xmlns=\"http://www.w3.org/2000/svg\" height=\"24px\"viewBox=\"0 0 24 24\"\n",
              "     width=\"24px\">\n",
              "    <g>\n",
              "        <path d=\"M19 3H5c-1.1 0-2 .9-2 2v14c0 1.1.9 2 2 2h14c1.1 0 2-.9 2-2V5c0-1.1-.9-2-2-2zM9 17H7v-7h2v7zm4 0h-2V7h2v10zm4 0h-2v-4h2v4z\"/>\n",
              "    </g>\n",
              "</svg>\n",
              "  </button>\n",
              "\n",
              "<style>\n",
              "  .colab-df-quickchart {\n",
              "      --bg-color: #E8F0FE;\n",
              "      --fill-color: #1967D2;\n",
              "      --hover-bg-color: #E2EBFA;\n",
              "      --hover-fill-color: #174EA6;\n",
              "      --disabled-fill-color: #AAA;\n",
              "      --disabled-bg-color: #DDD;\n",
              "  }\n",
              "\n",
              "  [theme=dark] .colab-df-quickchart {\n",
              "      --bg-color: #3B4455;\n",
              "      --fill-color: #D2E3FC;\n",
              "      --hover-bg-color: #434B5C;\n",
              "      --hover-fill-color: #FFFFFF;\n",
              "      --disabled-bg-color: #3B4455;\n",
              "      --disabled-fill-color: #666;\n",
              "  }\n",
              "\n",
              "  .colab-df-quickchart {\n",
              "    background-color: var(--bg-color);\n",
              "    border: none;\n",
              "    border-radius: 50%;\n",
              "    cursor: pointer;\n",
              "    display: none;\n",
              "    fill: var(--fill-color);\n",
              "    height: 32px;\n",
              "    padding: 0;\n",
              "    width: 32px;\n",
              "  }\n",
              "\n",
              "  .colab-df-quickchart:hover {\n",
              "    background-color: var(--hover-bg-color);\n",
              "    box-shadow: 0 1px 2px rgba(60, 64, 67, 0.3), 0 1px 3px 1px rgba(60, 64, 67, 0.15);\n",
              "    fill: var(--button-hover-fill-color);\n",
              "  }\n",
              "\n",
              "  .colab-df-quickchart-complete:disabled,\n",
              "  .colab-df-quickchart-complete:disabled:hover {\n",
              "    background-color: var(--disabled-bg-color);\n",
              "    fill: var(--disabled-fill-color);\n",
              "    box-shadow: none;\n",
              "  }\n",
              "\n",
              "  .colab-df-spinner {\n",
              "    border: 2px solid var(--fill-color);\n",
              "    border-color: transparent;\n",
              "    border-bottom-color: var(--fill-color);\n",
              "    animation:\n",
              "      spin 1s steps(1) infinite;\n",
              "  }\n",
              "\n",
              "  @keyframes spin {\n",
              "    0% {\n",
              "      border-color: transparent;\n",
              "      border-bottom-color: var(--fill-color);\n",
              "      border-left-color: var(--fill-color);\n",
              "    }\n",
              "    20% {\n",
              "      border-color: transparent;\n",
              "      border-left-color: var(--fill-color);\n",
              "      border-top-color: var(--fill-color);\n",
              "    }\n",
              "    30% {\n",
              "      border-color: transparent;\n",
              "      border-left-color: var(--fill-color);\n",
              "      border-top-color: var(--fill-color);\n",
              "      border-right-color: var(--fill-color);\n",
              "    }\n",
              "    40% {\n",
              "      border-color: transparent;\n",
              "      border-right-color: var(--fill-color);\n",
              "      border-top-color: var(--fill-color);\n",
              "    }\n",
              "    60% {\n",
              "      border-color: transparent;\n",
              "      border-right-color: var(--fill-color);\n",
              "    }\n",
              "    80% {\n",
              "      border-color: transparent;\n",
              "      border-right-color: var(--fill-color);\n",
              "      border-bottom-color: var(--fill-color);\n",
              "    }\n",
              "    90% {\n",
              "      border-color: transparent;\n",
              "      border-bottom-color: var(--fill-color);\n",
              "    }\n",
              "  }\n",
              "</style>\n",
              "\n",
              "  <script>\n",
              "    async function quickchart(key) {\n",
              "      const quickchartButtonEl =\n",
              "        document.querySelector('#' + key + ' button');\n",
              "      quickchartButtonEl.disabled = true;  // To prevent multiple clicks.\n",
              "      quickchartButtonEl.classList.add('colab-df-spinner');\n",
              "      try {\n",
              "        const charts = await google.colab.kernel.invokeFunction(\n",
              "            'suggestCharts', [key], {});\n",
              "      } catch (error) {\n",
              "        console.error('Error during call to suggestCharts:', error);\n",
              "      }\n",
              "      quickchartButtonEl.classList.remove('colab-df-spinner');\n",
              "      quickchartButtonEl.classList.add('colab-df-quickchart-complete');\n",
              "    }\n",
              "    (() => {\n",
              "      let quickchartButtonEl =\n",
              "        document.querySelector('#df-168c49f5-3e32-41f9-a402-339babd4065e button');\n",
              "      quickchartButtonEl.style.display =\n",
              "        google.colab.kernel.accessAllowed ? 'block' : 'none';\n",
              "    })();\n",
              "  </script>\n",
              "</div>\n",
              "    </div>\n",
              "  </div>\n"
            ]
          },
          "metadata": {},
          "execution_count": 66
        }
      ]
    },
    {
      "cell_type": "code",
      "source": [
        "X_train, X_test, y_train, y_test = train_test_split(X, Y, test_size=0.20, random_state=42)\n",
        "sc_X = StandardScaler()\n",
        "X_train = sc_X.fit_transform(X_train)\n",
        "X_test = sc_X.transform(X_test)"
      ],
      "metadata": {
        "id": "ShsDJehu2Hzp"
      },
      "execution_count": 67,
      "outputs": []
    },
    {
      "cell_type": "markdown",
      "source": [
        "# Problem-2(a)"
      ],
      "metadata": {
        "id": "2tIyVZKo2W2N"
      }
    },
    {
      "cell_type": "code",
      "source": [
        "cnf_matrix_2_a, Y_pred_2_a = model_training(X_train, y_train, X_test, y_test)"
      ],
      "metadata": {
        "id": "-D3J1q4U2H4m"
      },
      "execution_count": 68,
      "outputs": []
    },
    {
      "cell_type": "code",
      "source": [
        "acc_2_a = get_results(y_test, Y_pred_2_a)"
      ],
      "metadata": {
        "colab": {
          "base_uri": "https://localhost:8080/"
        },
        "id": "UaVaP8Wn2H8A",
        "outputId": "d7042c97-db60-44ac-c65e-deaee20993a0"
      },
      "execution_count": 69,
      "outputs": [
        {
          "output_type": "stream",
          "name": "stdout",
          "text": [
            "Accuracy: 0.9385964912280702\n",
            "Precision: 0.9848484848484849\n",
            "Recall: 0.9154929577464789\n",
            "F1-Score: 0.948905109489051\n"
          ]
        }
      ]
    },
    {
      "cell_type": "code",
      "source": [
        "get_confusion_matrix(cnf_matrix_2_a)"
      ],
      "metadata": {
        "colab": {
          "base_uri": "https://localhost:8080/",
          "height": 551
        },
        "id": "DEuzV0SK2H_T",
        "outputId": "20a21926-f838-4b68-c7f4-69d92032620b"
      },
      "execution_count": 70,
      "outputs": [
        {
          "output_type": "display_data",
          "data": {
            "text/plain": [
              "<Figure size 640x480 with 2 Axes>"
            ],
            "image/png": "[encoded data removed]"
          },
          "metadata": {}
        }
      ]
    },
    {
      "cell_type": "code",
      "source": [],
      "metadata": {
        "id": "PNBm6Rx-2IDH"
      },
      "execution_count": null,
      "outputs": []
    },
    {
      "cell_type": "markdown",
      "source": [
        "# Problem-2(b)"
      ],
      "metadata": {
        "id": "Fu9lUs5fJFp3"
      }
    },
    {
      "cell_type": "code",
      "source": [
        "cnf_matrix_2_b, Y_pred_2_b = model_training(X_train, y_train, X_test, y_test, penalty='l2', c=10, solver='lbfgs')\n",
        "acc_2_b = get_results(y_test, Y_pred_2_b)"
      ],
      "metadata": {
        "colab": {
          "base_uri": "https://localhost:8080/"
        },
        "id": "osK7v929JHQ1",
        "outputId": "975896aa-3aa3-4712-cc3b-0da14515f368"
      },
      "execution_count": 16,
      "outputs": [
        {
          "output_type": "stream",
          "name": "stdout",
          "text": [
            "Accuracy: 0.9736842105263158\n",
            "Precision: 0.9857142857142858\n",
            "Recall: 0.971830985915493\n",
            "F1-Score: 0.9787234042553192\n"
          ]
        }
      ]
    },
    {
      "cell_type": "code",
      "source": [
        "get_confusion_matrix(cnf_matrix_2_b)"
      ],
      "metadata": {
        "colab": {
          "base_uri": "https://localhost:8080/",
          "height": 551
        },
        "id": "XCBlp2tmJHT-",
        "outputId": "64b43bfc-bdd5-4052-fbe3-06ffd7126739"
      },
      "execution_count": 17,
      "outputs": [
        {
          "output_type": "display_data",
          "data": {
            "text/plain": [
              "<Figure size 640x480 with 2 Axes>"
            ],
            "image/png": "[encoded data removed]"
          },
          "metadata": {}
        }
      ]
    },
    {
      "cell_type": "code",
      "source": [],
      "metadata": {
        "id": "z-ekExpGJHXL"
      },
      "execution_count": null,
      "outputs": []
    },
    {
      "cell_type": "markdown",
      "source": [
        "# Problem-3"
      ],
      "metadata": {
        "id": "b-e6lpssJbww"
      }
    },
    {
      "cell_type": "code",
      "source": [
        "from sklearn.naive_bayes import GaussianNB"
      ],
      "metadata": {
        "id": "zHzP1Ti8JHaE"
      },
      "execution_count": 18,
      "outputs": []
    },
    {
      "cell_type": "code",
      "source": [
        "def model_training_NB(X_train, y_train, X_test, y_test):\n",
        "    classifier = GaussianNB()\n",
        "    y_pred = classifier.fit(X_train, y_train).predict(X_test)\n",
        "    cnf_matrix = confusion_matrix(y_test, y_pred)\n",
        "    return cnf_matrix, y_pred\n"
      ],
      "metadata": {
        "id": "p2j04BTYJHdF"
      },
      "execution_count": 40,
      "outputs": []
    },
    {
      "cell_type": "code",
      "source": [
        "cnf_matrix_3, Y_pred_3 = model_training_NB(X_train, y_train, X_test, y_test)\n",
        "acc_3 = get_results(y_test, Y_pred_3)"
      ],
      "metadata": {
        "colab": {
          "base_uri": "https://localhost:8080/"
        },
        "id": "SWnW97k_JHfg",
        "outputId": "654b5620-41cf-414e-8810-72665b078ac8"
      },
      "execution_count": 41,
      "outputs": [
        {
          "output_type": "stream",
          "name": "stdout",
          "text": [
            "Accuracy: 0.9649122807017544\n",
            "Precision: 0.958904109589041\n",
            "Recall: 0.9859154929577465\n",
            "F1-Score: 0.9722222222222222\n"
          ]
        }
      ]
    },
    {
      "cell_type": "code",
      "source": [
        "get_confusion_matrix(cnf_matrix_3)"
      ],
      "metadata": {
        "colab": {
          "base_uri": "https://localhost:8080/",
          "height": 545
        },
        "id": "KZc78MhoKg4L",
        "outputId": "795c3a79-e319-4c7e-f843-11a20a2563eb"
      },
      "execution_count": 42,
      "outputs": [
        {
          "output_type": "display_data",
          "data": {
            "text/plain": [
              "<Figure size 640x480 with 2 Axes>"
            ],
            "image/png": "[encoded data removed]"
          },
          "metadata": {}
        }
      ]
    },
    {
      "cell_type": "markdown",
      "source": [
        "# Problem-4&5"
      ],
      "metadata": {
        "id": "fX11MijbLXev"
      }
    },
    {
      "cell_type": "code",
      "source": [
        "from sklearn.decomposition import PCA"
      ],
      "metadata": {
        "id": "pijgHOB-LW2J"
      },
      "execution_count": 44,
      "outputs": []
    },
    {
      "cell_type": "code",
      "source": [
        "def get_results(y_test, Y_pred):\n",
        "    acc = metrics.accuracy_score(y_test, Y_pred)\n",
        "    pre = metrics.precision_score(y_test, Y_pred)\n",
        "    rec = metrics.recall_score(y_test, Y_pred)\n",
        "    fscore = metrics.f1_score(y_test, Y_pred)\n",
        "    print(\"Accuracy:\",metrics.accuracy_score(y_test, Y_pred))\n",
        "    print(\"Precision:\",metrics.precision_score(y_test, Y_pred))\n",
        "    print(\"Recall:\",metrics.recall_score(y_test, Y_pred))\n",
        "    print(\"F1-Score:\",metrics.f1_score(y_test, Y_pred))\n",
        "    return [acc*100.0, pre*100.0, rec*100.0, fscore*100.0]\n",
        "\n",
        "\n",
        "def logist_model_training_pca(X, Y):\n",
        "    n=X.shape[1]\n",
        "    acc_list=[]\n",
        "    recall_list=[]\n",
        "    precision_list=[]\n",
        "    f1score_list = []\n",
        "    k_list=[]\n",
        "    for i in range(n):\n",
        "        print(\"K = \"+ str(i+1))\n",
        "        pca = PCA(n_components=i+1)\n",
        "        principalComponents = pca.fit_transform(X)\n",
        "        X_train, X_test, y_train, y_test = train_test_split(principalComponents, Y, test_size=0.20, random_state=9999)\n",
        "        #classifier = LogisticRegression(penalty='l2', C=1, solver = 'lbfgs')\n",
        "        classifier = LogisticRegression(random_state=9)\n",
        "        classifier.fit(X_train, y_train)\n",
        "        Y_pred = classifier.predict(X_test)\n",
        "        re = get_results(y_test, Y_pred)\n",
        "        acc_list.append(re[0])\n",
        "        precision_list.append(re[1])\n",
        "        recall_list.append(re[2])\n",
        "        f1score_list.append(re[3])\n",
        "        k_list.append(i+1)\n",
        "    high_acc = max(acc_list)\n",
        "    high_acc_k=acc_list.index(max(acc_list))+1\n",
        "    print(\"----------------\")\n",
        "    print(\"Highest Classification Accuracy Achieved: \"+ str(high_acc)+\" for K number = \"+str(high_acc_k))\n",
        "    return k_list, acc_list, precision_list, recall_list, f1score_list\n",
        "\n",
        "\n",
        "def GaussianNB_model_training_pca(X, Y):\n",
        "    n=X.shape[1]\n",
        "    acc_list=[]\n",
        "    recall_list=[]\n",
        "    precision_list=[]\n",
        "    f1score_list=[]\n",
        "    k_list=[]\n",
        "    for i in range(n):\n",
        "        print(\"K = \"+ str(i+1))\n",
        "        pca = PCA(n_components=i+1)\n",
        "        principalComponents = pca.fit_transform(X)\n",
        "        X_train, X_test, y_train, y_test = train_test_split(principalComponents, Y, test_size=0.20, random_state=9999)\n",
        "        classifier = GaussianNB()\n",
        "        classifier.fit(X_train, y_train)\n",
        "        Y_pred = classifier.predict(X_test)\n",
        "        re = get_results(y_test, Y_pred)\n",
        "        acc_list.append(re[0])\n",
        "        precision_list.append(re[1])\n",
        "        recall_list.append(re[2])\n",
        "        f1score_list.append(re[3])\n",
        "        k_list.append(i+1)\n",
        "    high_acc = max(acc_list)\n",
        "    high_acc_k=acc_list.index(max(acc_list))+1\n",
        "    print(\"----------------\")\n",
        "    print(\"Highest Classification Accuracy Achieved: \"+ str(high_acc)+\" for K number = \"+str(high_acc_k))\n",
        "    return k_list, acc_list, precision_list, recall_list, f1score_list\n",
        "\n",
        "def plot_result_with_k(k_list, acc_list, precision_list, recall_list, f1score_list):\n",
        "    plt.plot(k_list, acc_list, label = \"Accuracy\")\n",
        "    plt.plot(k_list, precision_list, label = \"Precision\")\n",
        "    plt.plot(k_list, recall_list, label = \"Recall\")\n",
        "    plt.plot(k_list, f1score_list, label = \"F1-Score\")\n",
        "    plt.legend()\n",
        "    plt.title('Plotting classification accuracy, precision, recall and F1-score over a different number of Ks')\n",
        "    plt.ylabel('Value')\n",
        "    plt.xlabel('K')\n",
        "    plt.show()"
      ],
      "metadata": {
        "id": "-yB79AGZLW-E"
      },
      "execution_count": 55,
      "outputs": []
    },
    {
      "cell_type": "code",
      "source": [
        "from sklearn.datasets import load_breast_cancer\n",
        "breast = load_breast_cancer()\n",
        "X = breast.data\n",
        "print(X.shape)\n",
        "Y = breast.target\n",
        "breast_input = pd.DataFrame(X)\n",
        "\n",
        "sc_X = StandardScaler()\n",
        "X = sc_X.fit_transform(breast_input)"
      ],
      "metadata": {
        "colab": {
          "base_uri": "https://localhost:8080/"
        },
        "id": "CD8I_ezNLdbJ",
        "outputId": "9d410d18-839a-4786-b578-638e8e875098"
      },
      "execution_count": 48,
      "outputs": [
        {
          "output_type": "stream",
          "name": "stdout",
          "text": [
            "(569, 30)\n"
          ]
        }
      ]
    },
    {
      "cell_type": "markdown",
      "source": [
        "Problem-4"
      ],
      "metadata": {
        "id": "RLpiWRkMPhrv"
      }
    },
    {
      "cell_type": "code",
      "source": [
        "k_list, acc_list, precision_list, recall_list, f1score_list  = logist_model_training_pca(X,Y)"
      ],
      "metadata": {
        "colab": {
          "base_uri": "https://localhost:8080/"
        },
        "id": "MCZdTp1yLdno",
        "outputId": "779e2240-08cf-482b-f87e-98280e5cd6e0"
      },
      "execution_count": 58,
      "outputs": [
        {
          "output_type": "stream",
          "name": "stdout",
          "text": [
            "K = 1\n",
            "Accuracy: 0.9298245614035088\n",
            "Precision: 0.9487179487179487\n",
            "Recall: 0.9487179487179487\n",
            "F1-Score: 0.9487179487179487\n",
            "K = 2\n",
            "Accuracy: 0.9385964912280702\n",
            "Precision: 0.9382716049382716\n",
            "Recall: 0.9743589743589743\n",
            "F1-Score: 0.9559748427672956\n",
            "K = 3\n",
            "Accuracy: 0.9649122807017544\n",
            "Precision: 0.9743589743589743\n",
            "Recall: 0.9743589743589743\n",
            "F1-Score: 0.9743589743589743\n",
            "K = 4\n",
            "Accuracy: 0.9912280701754386\n",
            "Precision: 0.9873417721518988\n",
            "Recall: 1.0\n",
            "F1-Score: 0.9936305732484078\n",
            "K = 5\n",
            "Accuracy: 1.0\n",
            "Precision: 1.0\n",
            "Recall: 1.0\n",
            "F1-Score: 1.0\n",
            "K = 6\n",
            "Accuracy: 0.9912280701754386\n",
            "Precision: 1.0\n",
            "Recall: 0.9871794871794872\n",
            "F1-Score: 0.9935483870967742\n",
            "K = 7\n",
            "Accuracy: 0.9912280701754386\n",
            "Precision: 1.0\n",
            "Recall: 0.9871794871794872\n",
            "F1-Score: 0.9935483870967742\n",
            "K = 8\n",
            "Accuracy: 0.9824561403508771\n",
            "Precision: 0.9871794871794872\n",
            "Recall: 0.9871794871794872\n",
            "F1-Score: 0.9871794871794872\n",
            "K = 9\n",
            "Accuracy: 0.9912280701754386\n",
            "Precision: 1.0\n",
            "Recall: 0.9871794871794872\n",
            "F1-Score: 0.9935483870967742\n",
            "K = 10\n",
            "Accuracy: 0.9824561403508771\n",
            "Precision: 0.9871794871794872\n",
            "Recall: 0.9871794871794872\n",
            "F1-Score: 0.9871794871794872\n",
            "K = 11\n",
            "Accuracy: 0.9912280701754386\n",
            "Precision: 1.0\n",
            "Recall: 0.9871794871794872\n",
            "F1-Score: 0.9935483870967742\n",
            "K = 12\n",
            "Accuracy: 0.9824561403508771\n",
            "Precision: 0.9871794871794872\n",
            "Recall: 0.9871794871794872\n",
            "F1-Score: 0.9871794871794872\n",
            "K = 13\n",
            "Accuracy: 0.9824561403508771\n",
            "Precision: 0.9871794871794872\n",
            "Recall: 0.9871794871794872\n",
            "F1-Score: 0.9871794871794872\n",
            "K = 14\n",
            "Accuracy: 1.0\n",
            "Precision: 1.0\n",
            "Recall: 1.0\n",
            "F1-Score: 1.0\n",
            "K = 15\n",
            "Accuracy: 1.0\n",
            "Precision: 1.0\n",
            "Recall: 1.0\n",
            "F1-Score: 1.0\n",
            "K = 16\n",
            "Accuracy: 1.0\n",
            "Precision: 1.0\n",
            "Recall: 1.0\n",
            "F1-Score: 1.0\n",
            "K = 17\n",
            "Accuracy: 1.0\n",
            "Precision: 1.0\n",
            "Recall: 1.0\n",
            "F1-Score: 1.0\n",
            "K = 18\n",
            "Accuracy: 1.0\n",
            "Precision: 1.0\n",
            "Recall: 1.0\n",
            "F1-Score: 1.0\n",
            "K = 19\n",
            "Accuracy: 1.0\n",
            "Precision: 1.0\n",
            "Recall: 1.0\n",
            "F1-Score: 1.0\n",
            "K = 20\n",
            "Accuracy: 1.0\n",
            "Precision: 1.0\n",
            "Recall: 1.0\n",
            "F1-Score: 1.0\n",
            "K = 21\n",
            "Accuracy: 1.0\n",
            "Precision: 1.0\n",
            "Recall: 1.0\n",
            "F1-Score: 1.0\n",
            "K = 22\n",
            "Accuracy: 0.9912280701754386\n",
            "Precision: 1.0\n",
            "Recall: 0.9871794871794872\n",
            "F1-Score: 0.9935483870967742\n",
            "K = 23\n",
            "Accuracy: 0.9912280701754386\n",
            "Precision: 1.0\n",
            "Recall: 0.9871794871794872\n",
            "F1-Score: 0.9935483870967742\n",
            "K = 24\n",
            "Accuracy: 1.0\n",
            "Precision: 1.0\n",
            "Recall: 1.0\n",
            "F1-Score: 1.0\n",
            "K = 25\n",
            "Accuracy: 1.0\n",
            "Precision: 1.0\n",
            "Recall: 1.0\n",
            "F1-Score: 1.0\n",
            "K = 26\n",
            "Accuracy: 1.0\n",
            "Precision: 1.0\n",
            "Recall: 1.0\n",
            "F1-Score: 1.0\n",
            "K = 27\n",
            "Accuracy: 1.0\n",
            "Precision: 1.0\n",
            "Recall: 1.0\n",
            "F1-Score: 1.0\n",
            "K = 28\n",
            "Accuracy: 1.0\n",
            "Precision: 1.0\n",
            "Recall: 1.0\n",
            "F1-Score: 1.0\n",
            "K = 29\n",
            "Accuracy: 1.0\n",
            "Precision: 1.0\n",
            "Recall: 1.0\n",
            "F1-Score: 1.0\n",
            "K = 30\n",
            "Accuracy: 1.0\n",
            "Precision: 1.0\n",
            "Recall: 1.0\n",
            "F1-Score: 1.0\n",
            "----------------\n",
            "Highest Classification Accuracy Achieved: 100.0 for K number = 5\n"
          ]
        }
      ]
    },
    {
      "cell_type": "code",
      "source": [
        "plot_result_with_k(k_list, acc_list, precision_list, recall_list, f1score_list)"
      ],
      "metadata": {
        "colab": {
          "base_uri": "https://localhost:8080/",
          "height": 472
        },
        "id": "l0y6SICrP2SK",
        "outputId": "f7e37f07-c575-4f53-9397-60d718bbea32"
      },
      "execution_count": 59,
      "outputs": [
        {
          "output_type": "display_data",
          "data": {
            "text/plain": [
              "<Figure size 640x480 with 1 Axes>"
            ],
            "image/png": "[encoded data removed]"
          },
          "metadata": {}
        }
      ]
    },
    {
      "cell_type": "markdown",
      "source": [
        "Problem-5"
      ],
      "metadata": {
        "id": "D1gBVxVqQGRF"
      }
    },
    {
      "cell_type": "code",
      "source": [
        "k_list, acc_list, precision_list, recall_list, f1score_list  =  GaussianNB_model_training_pca(X, Y)"
      ],
      "metadata": {
        "colab": {
          "base_uri": "https://localhost:8080/"
        },
        "id": "6MeTqPhcLdeV",
        "outputId": "68c41ccb-5ca5-4473-8275-29708655b9d6"
      },
      "execution_count": 56,
      "outputs": [
        {
          "output_type": "stream",
          "name": "stdout",
          "text": [
            "K = 1\n",
            "Accuracy: 0.9385964912280702\n",
            "Precision: 0.9493670886075949\n",
            "Recall: 0.9615384615384616\n",
            "F1-Score: 0.9554140127388535\n",
            "K = 2\n",
            "Accuracy: 0.9385964912280702\n",
            "Precision: 0.9493670886075949\n",
            "Recall: 0.9615384615384616\n",
            "F1-Score: 0.9554140127388535\n",
            "K = 3\n",
            "Accuracy: 0.9385964912280702\n",
            "Precision: 0.961038961038961\n",
            "Recall: 0.9487179487179487\n",
            "F1-Score: 0.9548387096774195\n",
            "K = 4\n",
            "Accuracy: 0.9473684210526315\n",
            "Precision: 0.9615384615384616\n",
            "Recall: 0.9615384615384616\n",
            "F1-Score: 0.9615384615384616\n",
            "K = 5\n",
            "Accuracy: 0.9473684210526315\n",
            "Precision: 0.9615384615384616\n",
            "Recall: 0.9615384615384616\n",
            "F1-Score: 0.9615384615384616\n",
            "K = 6\n",
            "Accuracy: 0.9385964912280702\n",
            "Precision: 0.961038961038961\n",
            "Recall: 0.9487179487179487\n",
            "F1-Score: 0.9548387096774195\n",
            "K = 7\n",
            "Accuracy: 0.9385964912280702\n",
            "Precision: 0.961038961038961\n",
            "Recall: 0.9487179487179487\n",
            "F1-Score: 0.9548387096774195\n",
            "K = 8\n",
            "Accuracy: 0.9122807017543859\n",
            "Precision: 0.9358974358974359\n",
            "Recall: 0.9358974358974359\n",
            "F1-Score: 0.9358974358974359\n",
            "K = 9\n",
            "Accuracy: 0.9122807017543859\n",
            "Precision: 0.9358974358974359\n",
            "Recall: 0.9358974358974359\n",
            "F1-Score: 0.9358974358974359\n",
            "K = 10\n",
            "Accuracy: 0.9122807017543859\n",
            "Precision: 0.9358974358974359\n",
            "Recall: 0.9358974358974359\n",
            "F1-Score: 0.9358974358974359\n",
            "K = 11\n",
            "Accuracy: 0.9035087719298246\n",
            "Precision: 0.9240506329113924\n",
            "Recall: 0.9358974358974359\n",
            "F1-Score: 0.9299363057324842\n",
            "K = 12\n",
            "Accuracy: 0.9035087719298246\n",
            "Precision: 0.9240506329113924\n",
            "Recall: 0.9358974358974359\n",
            "F1-Score: 0.9299363057324842\n",
            "K = 13\n",
            "Accuracy: 0.9035087719298246\n",
            "Precision: 0.9240506329113924\n",
            "Recall: 0.9358974358974359\n",
            "F1-Score: 0.9299363057324842\n",
            "K = 14\n",
            "Accuracy: 0.9035087719298246\n",
            "Precision: 0.9240506329113924\n",
            "Recall: 0.9358974358974359\n",
            "F1-Score: 0.9299363057324842\n",
            "K = 15\n",
            "Accuracy: 0.8947368421052632\n",
            "Precision: 0.9125\n",
            "Recall: 0.9358974358974359\n",
            "F1-Score: 0.9240506329113924\n",
            "K = 16\n",
            "Accuracy: 0.9035087719298246\n",
            "Precision: 0.9135802469135802\n",
            "Recall: 0.9487179487179487\n",
            "F1-Score: 0.9308176100628931\n",
            "K = 17\n",
            "Accuracy: 0.9035087719298246\n",
            "Precision: 0.9135802469135802\n",
            "Recall: 0.9487179487179487\n",
            "F1-Score: 0.9308176100628931\n",
            "K = 18\n",
            "Accuracy: 0.8947368421052632\n",
            "Precision: 0.9024390243902439\n",
            "Recall: 0.9487179487179487\n",
            "F1-Score: 0.9249999999999999\n",
            "K = 19\n",
            "Accuracy: 0.8947368421052632\n",
            "Precision: 0.9024390243902439\n",
            "Recall: 0.9487179487179487\n",
            "F1-Score: 0.9249999999999999\n",
            "K = 20\n",
            "Accuracy: 0.8947368421052632\n",
            "Precision: 0.9024390243902439\n",
            "Recall: 0.9487179487179487\n",
            "F1-Score: 0.9249999999999999\n",
            "K = 21\n",
            "Accuracy: 0.8947368421052632\n",
            "Precision: 0.9024390243902439\n",
            "Recall: 0.9487179487179487\n",
            "F1-Score: 0.9249999999999999\n",
            "K = 22\n",
            "Accuracy: 0.8947368421052632\n",
            "Precision: 0.9024390243902439\n",
            "Recall: 0.9487179487179487\n",
            "F1-Score: 0.9249999999999999\n",
            "K = 23\n",
            "Accuracy: 0.9035087719298246\n",
            "Precision: 0.9135802469135802\n",
            "Recall: 0.9487179487179487\n",
            "F1-Score: 0.9308176100628931\n",
            "K = 24\n",
            "Accuracy: 0.9035087719298246\n",
            "Precision: 0.9135802469135802\n",
            "Recall: 0.9487179487179487\n",
            "F1-Score: 0.9308176100628931\n",
            "K = 25\n",
            "Accuracy: 0.9035087719298246\n",
            "Precision: 0.9135802469135802\n",
            "Recall: 0.9487179487179487\n",
            "F1-Score: 0.9308176100628931\n",
            "K = 26\n",
            "Accuracy: 0.8859649122807017\n",
            "Precision: 0.891566265060241\n",
            "Recall: 0.9487179487179487\n",
            "F1-Score: 0.9192546583850931\n",
            "K = 27\n",
            "Accuracy: 0.8947368421052632\n",
            "Precision: 0.9024390243902439\n",
            "Recall: 0.9487179487179487\n",
            "F1-Score: 0.9249999999999999\n",
            "K = 28\n",
            "Accuracy: 0.8859649122807017\n",
            "Precision: 0.891566265060241\n",
            "Recall: 0.9487179487179487\n",
            "F1-Score: 0.9192546583850931\n",
            "K = 29\n",
            "Accuracy: 0.9122807017543859\n",
            "Precision: 0.925\n",
            "Recall: 0.9487179487179487\n",
            "F1-Score: 0.9367088607594937\n",
            "K = 30\n",
            "Accuracy: 0.9122807017543859\n",
            "Precision: 0.925\n",
            "Recall: 0.9487179487179487\n",
            "F1-Score: 0.9367088607594937\n",
            "----------------\n",
            "Highest Classification Accuracy Achieved: 94.73684210526315 for K number = 4\n"
          ]
        }
      ]
    },
    {
      "cell_type": "code",
      "source": [
        "plot_result_with_k(k_list, acc_list, precision_list, recall_list, f1score_list)"
      ],
      "metadata": {
        "colab": {
          "base_uri": "https://localhost:8080/",
          "height": 472
        },
        "id": "SRRKW8hHLdhY",
        "outputId": "c9f0b35e-9f93-4e0b-fd9e-e4678dff77b1"
      },
      "execution_count": 57,
      "outputs": [
        {
          "output_type": "display_data",
          "data": {
            "text/plain": [
              "<Figure size 640x480 with 1 Axes>"
            ],
            "image/png": "[encoded data removed]"
          },
          "metadata": {}
        }
      ]
    },
    {
      "cell_type": "code",
      "source": [],
      "metadata": {
        "id": "ynWi_TNFP2VI"
      },
      "execution_count": null,
      "outputs": []
    },
    {
      "cell_type": "code",
      "source": [],
      "metadata": {
        "id": "Z5qLXzCUP2YD"
      },
      "execution_count": null,
      "outputs": []
    },
    {
      "cell_type": "code",
      "source": [],
      "metadata": {
        "id": "fLFI3wCcLXFH"
      },
      "execution_count": null,
      "outputs": []
    }
  ]
}