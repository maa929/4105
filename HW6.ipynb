{
  "nbformat": 4,
  "nbformat_minor": 0,
  "metadata": {
    "colab": {
      "provenance": [],
      "include_colab_link": true
    },
    "kernelspec": {
      "name": "python3",
      "display_name": "Python 3"
    },
    "language_info": {
      "name": "python"
    }
  },
  "cells": [
    {
      "cell_type": "markdown",
      "metadata": {
        "id": "view-in-github",
        "colab_type": "text"
      },
      "source": [
        "<a href=\"https://colab.research.google.com/github/maa929/4105/blob/main/HW6.ipynb\" target=\"_parent\"><img src=\"https://colab.research.google.com/assets/colab-badge.svg\" alt=\"Open In Colab\"/></a>"
      ]
    },
    {
      "cell_type": "code",
      "execution_count": 3,
      "metadata": {
        "id": "CmzYFsNxC6Dt"
      },
      "outputs": [],
      "source": [
        "import numpy as np\n",
        "import pandas as pd\n",
        "import time\n",
        "import torch\n",
        "import torch.nn as nn\n",
        "import torch.optim as optim\n",
        "from torch.utils.data import DataLoader\n",
        "from torchvision import datasets, transforms\n",
        "from sklearn.metrics import mean_squared_error\n",
        "from sklearn.preprocessing import StandardScaler\n",
        "from sklearn.model_selection import train_test_split"
      ]
    },
    {
      "cell_type": "code",
      "source": [
        "def binary_map(x):\n",
        "    return x.map({'yes': 1, 'no': 0})"
      ],
      "metadata": {
        "id": "3ZWpCBl68Zbh"
      },
      "execution_count": 4,
      "outputs": []
    },
    {
      "cell_type": "code",
      "source": [
        "def training_loop(n_epochs, optimizer, model, loss_fn, X_train, X_val, Y_train, Y_val):\n",
        "  for epoch in range(1, n_epochs + 1):\n",
        "    loop_train = model(X_train)\n",
        "    loss_train = loss_fn(loop_train, Y_train)\n",
        "    loop_val = model(X_val)\n",
        "    loss_val = loss_fn(loop_val, Y_val)\n",
        "    optimizer.zero_grad()\n",
        "    loss_train.backward()\n",
        "    optimizer.step()\n",
        "    if epoch % 1000 == 0:\n",
        "      print(f\"Epoch {epoch}: Training loss {loss_train.item()}, Validation loss {loss_val.item()}\")"
      ],
      "metadata": {
        "id": "lBWxQpBJhEyt"
      },
      "execution_count": 5,
      "outputs": []
    },
    {
      "cell_type": "markdown",
      "source": [
        "Problem 1"
      ],
      "metadata": {
        "id": "VJYC7iFn8kff"
      }
    },
    {
      "cell_type": "code",
      "source": [
        "file = 'https://raw.githubusercontent.com/maa929/4105/main/Housing.csv'\n",
        "ds = pd.DataFrame(pd.read_csv(file))\n",
        "varlist = ['mainroad', 'guestroom', 'basement', 'hotwaterheating', 'airconditioning', 'prefarea']\n",
        "ds[varlist] = ds[varlist].apply(binary_map)\n",
        "# Remove furnishing\n",
        "ds = ds.drop('furnishingstatus', axis=1)\n",
        "# Allocate values to X & Y and create tensors\n",
        "X = ds.iloc[:, 1:11].values\n",
        "Y = ds.iloc[:, 0].values.reshape(-1,1)\n",
        "X_tensor = torch.tensor(StandardScaler().fit_transform(X), dtype=torch.float32)\n",
        "Y_tensor = torch.tensor(StandardScaler().fit_transform(Y), dtype=torch.float32)\n",
        "X_train, X_val, Y_train, Y_val = train_test_split(X_tensor, Y_tensor, test_size = 0.8, random_state = 99)"
      ],
      "metadata": {
        "id": "Xm465XjV7_aA"
      },
      "execution_count": 7,
      "outputs": []
    },
    {
      "cell_type": "markdown",
      "source": [
        "1a)"
      ],
      "metadata": {
        "id": "Cv8zVItBhHXf"
      }
    },
    {
      "cell_type": "code",
      "source": [
        "seq_model = nn.Sequential(\n",
        "    nn.Linear(10, 32),\n",
        "    nn.Tanh(),\n",
        "    nn.Linear(32, 1))\n",
        "optimizer = optim.SGD(seq_model.parameters(), lr = 0.01)\n",
        "training_loop(\n",
        "    n_epochs = 6000,\n",
        "    optimizer = optimizer,\n",
        "    model = seq_model,\n",
        "    loss_fn = nn.MSELoss(),\n",
        "    X_train = X_train,\n",
        "    X_val = X_val,\n",
        "    Y_train = Y_train,\n",
        "    Y_val = Y_val)"
      ],
      "metadata": {
        "colab": {
          "base_uri": "https://localhost:8080/"
        },
        "id": "glaN4dvyhJYl",
        "outputId": "2308df8e-b5b5-4d81-8504-3a85a45869fe"
      },
      "execution_count": 8,
      "outputs": [
        {
          "output_type": "stream",
          "name": "stdout",
          "text": [
            "Epoch 1000: Training loss 0.26442134380340576, Validation loss 0.38828346133232117\n",
            "Epoch 2000: Training loss 0.2127625048160553, Validation loss 0.3952268958091736\n",
            "Epoch 3000: Training loss 0.16533780097961426, Validation loss 0.4220496714115143\n",
            "Epoch 4000: Training loss 0.13815204799175262, Validation loss 0.454425185918808\n",
            "Epoch 5000: Training loss 0.12111057341098785, Validation loss 0.48085498809814453\n",
            "Epoch 6000: Training loss 0.1060800850391388, Validation loss 0.5052534937858582\n"
          ]
        }
      ]
    },
    {
      "cell_type": "markdown",
      "source": [
        "1b)"
      ],
      "metadata": {
        "id": "m6qMjxsLlbvO"
      }
    },
    {
      "cell_type": "code",
      "source": [
        "seq_model = nn.Sequential(\n",
        "    nn.Linear(10, 32),\n",
        "    nn.Tanh(),\n",
        "    nn.Linear(32, 64),\n",
        "    nn.Tanh(),\n",
        "    nn.Linear(64, 16),\n",
        "    nn.Tanh(),\n",
        "    nn.Linear(16,1))\n",
        "optimizer = optim.SGD(seq_model.parameters(), lr = 0.001)\n",
        "training_loop(\n",
        "    n_epochs = 6000,\n",
        "    optimizer = optimizer,\n",
        "    model = seq_model,\n",
        "    loss_fn = nn.MSELoss(),\n",
        "    X_train = X_train,\n",
        "    X_val = X_val,\n",
        "    Y_train = Y_train,\n",
        "    Y_val = Y_val)"
      ],
      "metadata": {
        "colab": {
          "base_uri": "https://localhost:8080/"
        },
        "id": "4w5V5Zrvlc70",
        "outputId": "aadd2288-2cf5-41ec-cd4a-8fb850bc2359"
      },
      "execution_count": 9,
      "outputs": [
        {
          "output_type": "stream",
          "name": "stdout",
          "text": [
            "Epoch 1000: Training loss 0.3731023371219635, Validation loss 0.4165841341018677\n",
            "Epoch 2000: Training loss 0.33866336941719055, Validation loss 0.4106062352657318\n",
            "Epoch 3000: Training loss 0.3252424895763397, Validation loss 0.40664544701576233\n",
            "Epoch 4000: Training loss 0.31550830602645874, Validation loss 0.40437018871307373\n",
            "Epoch 5000: Training loss 0.30700355768203735, Validation loss 0.4023580551147461\n",
            "Epoch 6000: Training loss 0.29901331663131714, Validation loss 0.4004458487033844\n"
          ]
        }
      ]
    }
  ]
}